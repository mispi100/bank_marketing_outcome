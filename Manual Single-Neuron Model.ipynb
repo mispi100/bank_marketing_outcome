{
 "cells": [
  {
   "cell_type": "markdown",
   "id": "c0a3b38e",
   "metadata": {},
   "source": [
    "# Import Libraries"
   ]
  },
  {
   "cell_type": "code",
   "execution_count": 1,
   "id": "4671b3ca",
   "metadata": {},
   "outputs": [],
   "source": [
    "import pandas as pd\n",
    "import numpy as np\n",
    "import seaborn as sns\n",
    "import matplotlib.pyplot as plt\n",
    "from sklearn.model_selection import train_test_split\n",
    "from sklearn.metrics import classification_report\n",
    "from sklearn.metrics import roc_auc_score\n",
    "from sklearn.preprocessing import StandardScaler\n",
    "from sklearn.metrics import confusion_matrix"
   ]
  },
  {
   "cell_type": "markdown",
   "id": "00887568",
   "metadata": {},
   "source": [
    "# Read in Data and Split in Test and Train"
   ]
  },
  {
   "cell_type": "code",
   "execution_count": 2,
   "id": "1f6a1e6e",
   "metadata": {},
   "outputs": [],
   "source": [
    "df = pd.read_csv(\"bank+marketing/bank/bank_preprocessed.csv\")\n",
    "X = df.drop(columns = \"y\")\n",
    "y = df[\"y\"]\n",
    "\n",
    "X_train, X_test, y_train, y_test = train_test_split(X, y, test_size=0.2, random_state=42)"
   ]
  },
  {
   "cell_type": "code",
   "execution_count": 3,
   "id": "5d00e6b6",
   "metadata": {},
   "outputs": [
    {
     "name": "stdout",
     "output_type": "stream",
     "text": [
      "Number of training examples: 3616\n",
      "Number of testing examples: 905\n",
      "Number of features = 43\n"
     ]
    }
   ],
   "source": [
    "print (\"Number of training examples: \" + str(X_train.shape[0]))\n",
    "print (\"Number of testing examples: \" + str( X_test.shape[0]))\n",
    "print (\"Number of features = \" + str(X_train.shape[1]))"
   ]
  },
  {
   "cell_type": "markdown",
   "id": "8bd731cc",
   "metadata": {},
   "source": [
    "# Define Functions for Single-Neuron"
   ]
  },
  {
   "cell_type": "code",
   "execution_count": 4,
   "id": "09870814",
   "metadata": {},
   "outputs": [],
   "source": [
    "def sigmoid(z):\n",
    "    z = np.array(z, dtype=np.float64)\n",
    "    z = np.clip(z, -500, 500)\n",
    "    s = 1 / (1 + np.exp(-z))\n",
    "    return s\n",
    "\n",
    "def initialize_with_zeros(dim):\n",
    "    \"\"\"Initialize the weights and bias to zero.\"\"\"\n",
    "    w = np.zeros((dim,1))\n",
    "    b = 0\n",
    "    assert(w.shape == (dim, 1))\n",
    "    assert(isinstance(b, float) or isinstance(b, int))\n",
    "    return w, b\n",
    "\n",
    "def initialize_with_random(dim):\n",
    "    \"\"\"Initialize the weights with small random values and bias to zero.\"\"\"\n",
    "    w = np.random.randn(dim, 1) * np.sqrt(1. / dim)\n",
    "    b = 0.0\n",
    "\n",
    "    assert(w.shape == (dim, 1))\n",
    "    assert(isinstance(b, float) or isinstance(b, int))\n",
    "    return w, b\n",
    "\n",
    "def propagate(w, b, X, Y):\n",
    "    m = X.shape[1]   \n",
    "    A = sigmoid(np.dot(w.T, X) + b)                         # compute activation\n",
    "    epsilon = 1e-8\n",
    "    cost = -1/m * np.sum(Y * np.log(A + epsilon) + (1-Y) * np.log(1 - A + epsilon)) # compute cost\n",
    "\n",
    "    dw = (1 / m ) * np.dot(X , (A - Y).T)\n",
    "    db = (1 / m) * np.sum(A - Y)\n",
    "\n",
    "    assert(dw.shape == w.shape)\n",
    "    assert(db.dtype == float)\n",
    "    cost = np.squeeze(cost)\n",
    "    assert(cost.shape == ())\n",
    "    \n",
    "    grads = {\"dw\": dw,\n",
    "             \"db\": db}\n",
    "    \n",
    "    return grads, cost\n",
    "\n",
    "def optimize(w, b, X, Y, num_iterations, learning_rate, print_cost = False):\n",
    "    \"\"\"Optimize weights using gradient descent.\"\"\"\n",
    "    costs = []\n",
    "    \n",
    "    for i in range(num_iterations):\n",
    "        grads, cost = propagate(w, b, X, Y)\n",
    "        dw = grads[\"dw\"]\n",
    "        db = grads[\"db\"]\n",
    "        w = w - learning_rate * dw\n",
    "        if i % 500 == 0:\n",
    "            costs.append(cost)\n",
    "        if print_cost and i % 500 == 0:\n",
    "            print (\"Cost after iteration %i: %f\" %(i, cost))\n",
    "    \n",
    "    params = {\"w\": w,\n",
    "              \"b\": b}\n",
    "    \n",
    "    grads = {\"dw\": dw,\n",
    "             \"db\": db}\n",
    "    \n",
    "    return params, grads, costs\n",
    "\n",
    "def predict(w, b, X):\n",
    "    \"\"\"Make predictions using learned weights and bias.\"\"\"\n",
    "    m = X.shape[1]\n",
    "    Y_prediction = np.zeros((1,m))\n",
    "    w = w.reshape(X.shape[0], 1)\n",
    "    A = sigmoid( np.dot(w.T, X) + b)\n",
    "    for i in range(A.shape[1]):\n",
    "        Y_prediction[0, i] = 1 if A[0, i] > 0.5 else 0\n",
    "        pass\n",
    "    assert(Y_prediction.shape == (1, m))\n",
    "    return Y_prediction"
   ]
  },
  {
   "cell_type": "code",
   "execution_count": 5,
   "id": "081cc5c5",
   "metadata": {},
   "outputs": [],
   "source": [
    "def model(X_train, Y_train, X_test, Y_test, num_iterations = 2000, learning_rate = 0.1, print_cost = True):\n",
    "    w, b = initialize_with_random(X_train.shape[0])\n",
    "    parameters, grads, costs = optimize(w, b, X_train, Y_train, num_iterations, learning_rate, print_cost = print_cost)\n",
    "    \n",
    "    w = parameters[\"w\"]\n",
    "    b = parameters[\"b\"]\n",
    "    \n",
    "    Y_prediction_test = predict(w, b, X_test)\n",
    "    Y_prediction_train = predict(w, b, X_train)\n",
    "\n",
    "    print(\"train accuracy: {} %\".format(100 - np.mean(np.abs(Y_prediction_train - Y_train)) * 100))\n",
    "    print(\"test accuracy: {} %\".format(100 - np.mean(np.abs(Y_prediction_test - Y_test)) * 100))\n",
    "\n",
    "    \n",
    "    d = {\"costs\": costs,\n",
    "         \"Y_prediction_test\": Y_prediction_test, \n",
    "         \"Y_prediction_train\" : Y_prediction_train, \n",
    "         \"w\" : w, \n",
    "         \"b\" : b,\n",
    "         \"learning_rate\" : learning_rate,\n",
    "         \"num_iterations\": num_iterations}\n",
    "    \n",
    "    return d"
   ]
  },
  {
   "cell_type": "markdown",
   "id": "1e2d6174",
   "metadata": {},
   "source": [
    "# Shape and Normalize Input Data"
   ]
  },
  {
   "cell_type": "code",
   "execution_count": 6,
   "id": "69f979e3",
   "metadata": {},
   "outputs": [],
   "source": [
    "scaler = StandardScaler()\n",
    "X_train_scaled = scaler.fit_transform(X_train)\n",
    "X_test_scaled = scaler.transform(X_test)"
   ]
  },
  {
   "cell_type": "code",
   "execution_count": 7,
   "id": "000b14bf",
   "metadata": {},
   "outputs": [],
   "source": [
    "X_train = X_train.to_numpy()\n",
    "X_test = X_test.to_numpy()\n",
    "y_train = y_train.to_numpy()\n",
    "y_test = y_test.to_numpy()\n",
    "X_train = X_train.T\n",
    "X_test = X_test.T\n",
    "X_train_scaled = X_train_scaled.T\n",
    "X_test_scaled = X_test_scaled.T"
   ]
  },
  {
   "cell_type": "markdown",
   "id": "3bfaf123",
   "metadata": {},
   "source": [
    "# Apply to data"
   ]
  },
  {
   "cell_type": "code",
   "execution_count": 8,
   "id": "f8fd4bbd",
   "metadata": {},
   "outputs": [
    {
     "name": "stdout",
     "output_type": "stream",
     "text": [
      "Cost after iteration 0: 13.612479\n"
     ]
    },
    {
     "name": "stdout",
     "output_type": "stream",
     "text": [
      "Cost after iteration 500: 3.156170\n",
      "Cost after iteration 1000: 2.859597\n",
      "Cost after iteration 1500: 3.022699\n",
      "Cost after iteration 2000: 2.744089\n",
      "Cost after iteration 2500: 2.894954\n",
      "Cost after iteration 3000: 3.009802\n",
      "Cost after iteration 3500: 3.026158\n",
      "Cost after iteration 4000: 6.087475\n",
      "Cost after iteration 4500: 6.470507\n",
      "train accuracy: 84.09845132743362 %\n",
      "test accuracy: 84.97237569060773 %\n"
     ]
    }
   ],
   "source": [
    "d = model(X_train, y_train, X_test, y_test, num_iterations = 5000, learning_rate = 0.005, print_cost = True)"
   ]
  },
  {
   "cell_type": "code",
   "execution_count": 9,
   "id": "2d885be3",
   "metadata": {},
   "outputs": [
    {
     "name": "stdout",
     "output_type": "stream",
     "text": [
      "ROC AUC:  0.557\n"
     ]
    }
   ],
   "source": [
    "y_pred = pd.Series(d[\"Y_prediction_test\"].flatten())\n",
    "roc_value = roc_auc_score(y_test, y_pred)\n",
    "print(\"ROC AUC: \", np.round(roc_value, 3))"
   ]
  },
  {
   "cell_type": "code",
   "execution_count": 10,
   "id": "25b56e50",
   "metadata": {},
   "outputs": [
    {
     "name": "stdout",
     "output_type": "stream",
     "text": [
      "              precision    recall  f1-score   support\n",
      "\n",
      "           0       0.90      0.93      0.92       807\n",
      "           1       0.24      0.18      0.21        98\n",
      "\n",
      "    accuracy                           0.85       905\n",
      "   macro avg       0.57      0.56      0.56       905\n",
      "weighted avg       0.83      0.85      0.84       905\n",
      "\n"
     ]
    }
   ],
   "source": [
    "print(classification_report(y_test, y_pred))"
   ]
  },
  {
   "cell_type": "code",
   "execution_count": 11,
   "id": "957e94bb",
   "metadata": {},
   "outputs": [
    {
     "name": "stdout",
     "output_type": "stream",
     "text": [
      "Cost after iteration 0: 0.760804\n",
      "Cost after iteration 500: 0.668989\n",
      "Cost after iteration 1000: 0.640751\n",
      "Cost after iteration 1500: 0.629974\n",
      "Cost after iteration 2000: 0.624994\n",
      "Cost after iteration 2500: 0.622339\n",
      "Cost after iteration 3000: 0.620759\n",
      "Cost after iteration 3500: 0.619732\n",
      "Cost after iteration 4000: 0.619017\n",
      "Cost after iteration 4500: 0.618489\n",
      "Cost after iteration 5000: 0.618084\n",
      "Cost after iteration 5500: 0.617761\n",
      "Cost after iteration 6000: 0.617497\n",
      "Cost after iteration 6500: 0.617276\n",
      "Cost after iteration 7000: 0.617089\n",
      "Cost after iteration 7500: 0.616929\n",
      "Cost after iteration 8000: 0.616790\n",
      "Cost after iteration 8500: 0.616668\n",
      "Cost after iteration 9000: 0.616560\n",
      "Cost after iteration 9500: 0.616464\n",
      "Cost after iteration 10000: 0.616378\n",
      "Cost after iteration 10500: 0.616300\n",
      "Cost after iteration 11000: 0.616230\n",
      "Cost after iteration 11500: 0.616166\n",
      "Cost after iteration 12000: 0.616108\n",
      "Cost after iteration 12500: 0.616055\n",
      "Cost after iteration 13000: 0.616006\n",
      "Cost after iteration 13500: 0.615960\n",
      "Cost after iteration 14000: 0.615918\n",
      "Cost after iteration 14500: 0.615879\n",
      "Cost after iteration 15000: 0.615843\n",
      "Cost after iteration 15500: 0.615809\n",
      "Cost after iteration 16000: 0.615777\n",
      "Cost after iteration 16500: 0.615747\n",
      "Cost after iteration 17000: 0.615719\n",
      "Cost after iteration 17500: 0.615693\n",
      "Cost after iteration 18000: 0.615668\n",
      "Cost after iteration 18500: 0.615645\n",
      "Cost after iteration 19000: 0.615623\n",
      "Cost after iteration 19500: 0.615602\n",
      "train accuracy: 78.76106194690266 %\n",
      "test accuracy: 78.89502762430939 %\n"
     ]
    }
   ],
   "source": [
    "d = model(X_train_scaled, y_train, X_test_scaled, y_test, num_iterations = 20000, learning_rate = 0.005, print_cost = True)"
   ]
  },
  {
   "cell_type": "code",
   "execution_count": 12,
   "id": "e2f544e8",
   "metadata": {},
   "outputs": [
    {
     "name": "stdout",
     "output_type": "stream",
     "text": [
      "ROC AUC:  0.823\n"
     ]
    }
   ],
   "source": [
    "y_pred = pd.Series(d[\"Y_prediction_test\"].flatten())\n",
    "roc_value = roc_auc_score(y_test, y_pred)\n",
    "print(\"ROC AUC: \", np.round(roc_value, 3))"
   ]
  },
  {
   "cell_type": "code",
   "execution_count": 13,
   "id": "4c7f0d3d",
   "metadata": {},
   "outputs": [
    {
     "name": "stdout",
     "output_type": "stream",
     "text": [
      "              precision    recall  f1-score   support\n",
      "\n",
      "           0       0.98      0.78      0.87       807\n",
      "           1       0.32      0.87      0.47        98\n",
      "\n",
      "    accuracy                           0.79       905\n",
      "   macro avg       0.65      0.82      0.67       905\n",
      "weighted avg       0.91      0.79      0.83       905\n",
      "\n"
     ]
    }
   ],
   "source": [
    "print(classification_report(y_test, y_pred))"
   ]
  },
  {
   "cell_type": "code",
   "execution_count": 14,
   "id": "80463e94",
   "metadata": {},
   "outputs": [
    {
     "data": {
      "image/png": "[encoded data removed]",
      "text/plain": [
       "<Figure size 640x480 with 2 Axes>"
      ]
     },
     "metadata": {},
     "output_type": "display_data"
    }
   ],
   "source": [
    "conf_matrix = confusion_matrix(y_test, y_pred)\n",
    "sns.heatmap(conf_matrix, annot=True, fmt='d')\n",
    "plt.ylabel('True label')\n",
    "plt.xlabel('Predicted label')\n",
    "plt.show()"
   ]
  },
  {
   "cell_type": "code",
   "execution_count": 15,
   "id": "0e3dcc45",
   "metadata": {},
   "outputs": [],
   "source": [
    "cols = df.drop(columns = [\"y\"]).columns.to_list()\n",
    "weights = d[\"w\"].flatten()"
   ]
  },
  {
   "cell_type": "code",
   "execution_count": 16,
   "id": "d21587d5",
   "metadata": {},
   "outputs": [
    {
     "data": {
      "text/plain": [
       "Text(0.5, 1.0, 'Feature Importance')"
      ]
     },
     "execution_count": 16,
     "metadata": {},
     "output_type": "execute_result"
    },
    {
     "data": {
      "image/png": "[encoded data removed]",
      "text/plain": [
       "<Figure size 1000x800 with 1 Axes>"
      ]
     },
     "metadata": {},
     "output_type": "display_data"
    }
   ],
   "source": [
    "features = pd.DataFrame({\"feature\": cols, \"weight\": weights}).sort_values(by = \"weight\", ascending = False).set_index(\"feature\")\n",
    "sns.set(rc={'figure.figsize':(10,8)})\n",
    "sns.barplot(data = features, x = \"weight\", y = features.index, palette = \"viridis\")\n",
    "plt.title(\"Feature Importance\")"
   ]
  },
  {
   "cell_type": "code",
   "execution_count": 17,
   "id": "124dd6a0",
   "metadata": {},
   "outputs": [
    {
     "data": {
      "text/html": [
       "<div>\n",
       "<style scoped>\n",
       "    .dataframe tbody tr th:only-of-type {\n",
       "        vertical-align: middle;\n",
       "    }\n",
       "\n",
       "    .dataframe tbody tr th {\n",
       "        vertical-align: top;\n",
       "    }\n",
       "\n",
       "    .dataframe thead th {\n",
       "        text-align: right;\n",
       "    }\n",
       "</style>\n",
       "<table border=\"1\" class=\"dataframe\">\n",
       "  <thead>\n",
       "    <tr style=\"text-align: right;\">\n",
       "      <th></th>\n",
       "      <th>weight</th>\n",
       "    </tr>\n",
       "    <tr>\n",
       "      <th>feature</th>\n",
       "      <th></th>\n",
       "    </tr>\n",
       "  </thead>\n",
       "  <tbody>\n",
       "    <tr>\n",
       "      <th>poutcome_success</th>\n",
       "      <td>0.883880</td>\n",
       "    </tr>\n",
       "    <tr>\n",
       "      <th>duration</th>\n",
       "      <td>0.661831</td>\n",
       "    </tr>\n",
       "    <tr>\n",
       "      <th>month_oct</th>\n",
       "      <td>0.181904</td>\n",
       "    </tr>\n",
       "    <tr>\n",
       "      <th>contact_cellular</th>\n",
       "      <td>0.153100</td>\n",
       "    </tr>\n",
       "    <tr>\n",
       "      <th>month_mar</th>\n",
       "      <td>0.131748</td>\n",
       "    </tr>\n",
       "    <tr>\n",
       "      <th>contact_telephone</th>\n",
       "      <td>0.083652</td>\n",
       "    </tr>\n",
       "    <tr>\n",
       "      <th>poutcome_other</th>\n",
       "      <td>0.072131</td>\n",
       "    </tr>\n",
       "    <tr>\n",
       "      <th>month_jun</th>\n",
       "      <td>0.068294</td>\n",
       "    </tr>\n",
       "    <tr>\n",
       "      <th>month_sep</th>\n",
       "      <td>0.066043</td>\n",
       "    </tr>\n",
       "    <tr>\n",
       "      <th>day</th>\n",
       "      <td>0.064017</td>\n",
       "    </tr>\n",
       "    <tr>\n",
       "      <th>month_dec</th>\n",
       "      <td>0.047803</td>\n",
       "    </tr>\n",
       "    <tr>\n",
       "      <th>default</th>\n",
       "      <td>0.035951</td>\n",
       "    </tr>\n",
       "    <tr>\n",
       "      <th>age</th>\n",
       "      <td>0.035818</td>\n",
       "    </tr>\n",
       "    <tr>\n",
       "      <th>month_feb</th>\n",
       "      <td>0.032829</td>\n",
       "    </tr>\n",
       "    <tr>\n",
       "      <th>month_apr</th>\n",
       "      <td>0.032102</td>\n",
       "    </tr>\n",
       "    <tr>\n",
       "      <th>marital_divorced</th>\n",
       "      <td>0.023714</td>\n",
       "    </tr>\n",
       "    <tr>\n",
       "      <th>previous</th>\n",
       "      <td>0.004402</td>\n",
       "    </tr>\n",
       "    <tr>\n",
       "      <th>job_retired</th>\n",
       "      <td>-0.004058</td>\n",
       "    </tr>\n",
       "    <tr>\n",
       "      <th>job_student</th>\n",
       "      <td>-0.005669</td>\n",
       "    </tr>\n",
       "    <tr>\n",
       "      <th>balance</th>\n",
       "      <td>-0.012438</td>\n",
       "    </tr>\n",
       "    <tr>\n",
       "      <th>campaign</th>\n",
       "      <td>-0.012652</td>\n",
       "    </tr>\n",
       "    <tr>\n",
       "      <th>pdays</th>\n",
       "      <td>-0.015652</td>\n",
       "    </tr>\n",
       "    <tr>\n",
       "      <th>month_aug</th>\n",
       "      <td>-0.037654</td>\n",
       "    </tr>\n",
       "    <tr>\n",
       "      <th>job_self-employed</th>\n",
       "      <td>-0.043968</td>\n",
       "    </tr>\n",
       "    <tr>\n",
       "      <th>housing</th>\n",
       "      <td>-0.045685</td>\n",
       "    </tr>\n",
       "    <tr>\n",
       "      <th>marital_married</th>\n",
       "      <td>-0.048691</td>\n",
       "    </tr>\n",
       "    <tr>\n",
       "      <th>month_may</th>\n",
       "      <td>-0.052195</td>\n",
       "    </tr>\n",
       "    <tr>\n",
       "      <th>job_housemaid</th>\n",
       "      <td>-0.053354</td>\n",
       "    </tr>\n",
       "    <tr>\n",
       "      <th>loan</th>\n",
       "      <td>-0.055762</td>\n",
       "    </tr>\n",
       "    <tr>\n",
       "      <th>education_tertiary</th>\n",
       "      <td>-0.058356</td>\n",
       "    </tr>\n",
       "    <tr>\n",
       "      <th>job_admin.</th>\n",
       "      <td>-0.060461</td>\n",
       "    </tr>\n",
       "    <tr>\n",
       "      <th>job_unemployed</th>\n",
       "      <td>-0.060775</td>\n",
       "    </tr>\n",
       "    <tr>\n",
       "      <th>month_jan</th>\n",
       "      <td>-0.062853</td>\n",
       "    </tr>\n",
       "    <tr>\n",
       "      <th>month_nov</th>\n",
       "      <td>-0.066960</td>\n",
       "    </tr>\n",
       "    <tr>\n",
       "      <th>job_entrepreneur</th>\n",
       "      <td>-0.067649</td>\n",
       "    </tr>\n",
       "    <tr>\n",
       "      <th>month_jul</th>\n",
       "      <td>-0.076100</td>\n",
       "    </tr>\n",
       "    <tr>\n",
       "      <th>job_services</th>\n",
       "      <td>-0.076780</td>\n",
       "    </tr>\n",
       "    <tr>\n",
       "      <th>education_unknown</th>\n",
       "      <td>-0.083659</td>\n",
       "    </tr>\n",
       "    <tr>\n",
       "      <th>education_primary</th>\n",
       "      <td>-0.084755</td>\n",
       "    </tr>\n",
       "    <tr>\n",
       "      <th>job_management</th>\n",
       "      <td>-0.092297</td>\n",
       "    </tr>\n",
       "    <tr>\n",
       "      <th>education_secondary</th>\n",
       "      <td>-0.104061</td>\n",
       "    </tr>\n",
       "    <tr>\n",
       "      <th>job_technician</th>\n",
       "      <td>-0.114213</td>\n",
       "    </tr>\n",
       "    <tr>\n",
       "      <th>job_blue-collar</th>\n",
       "      <td>-0.143916</td>\n",
       "    </tr>\n",
       "  </tbody>\n",
       "</table>\n",
       "</div>"
      ],
      "text/plain": [
       "                       weight\n",
       "feature                      \n",
       "poutcome_success     0.883880\n",
       "duration             0.661831\n",
       "month_oct            0.181904\n",
       "contact_cellular     0.153100\n",
       "month_mar            0.131748\n",
       "contact_telephone    0.083652\n",
       "poutcome_other       0.072131\n",
       "month_jun            0.068294\n",
       "month_sep            0.066043\n",
       "day                  0.064017\n",
       "month_dec            0.047803\n",
       "default              0.035951\n",
       "age                  0.035818\n",
       "month_feb            0.032829\n",
       "month_apr            0.032102\n",
       "marital_divorced     0.023714\n",
       "previous             0.004402\n",
       "job_retired         -0.004058\n",
       "job_student         -0.005669\n",
       "balance             -0.012438\n",
       "campaign            -0.012652\n",
       "pdays               -0.015652\n",
       "month_aug           -0.037654\n",
       "job_self-employed   -0.043968\n",
       "housing             -0.045685\n",
       "marital_married     -0.048691\n",
       "month_may           -0.052195\n",
       "job_housemaid       -0.053354\n",
       "loan                -0.055762\n",
       "education_tertiary  -0.058356\n",
       "job_admin.          -0.060461\n",
       "job_unemployed      -0.060775\n",
       "month_jan           -0.062853\n",
       "month_nov           -0.066960\n",
       "job_entrepreneur    -0.067649\n",
       "month_jul           -0.076100\n",
       "job_services        -0.076780\n",
       "education_unknown   -0.083659\n",
       "education_primary   -0.084755\n",
       "job_management      -0.092297\n",
       "education_secondary -0.104061\n",
       "job_technician      -0.114213\n",
       "job_blue-collar     -0.143916"
      ]
     },
     "execution_count": 17,
     "metadata": {},
     "output_type": "execute_result"
    }
   ],
   "source": [
    "features"
   ]
  },
  {
   "cell_type": "code",
   "execution_count": null,
   "id": "897079a1",
   "metadata": {},
   "outputs": [],
   "source": []
  }
 ],
 "metadata": {
  "kernelspec": {
   "display_name": "base",
   "language": "python",
   "name": "python3"
  },
  "language_info": {
   "codemirror_mode": {
    "name": "ipython",
    "version": 3
   },
   "file_extension": ".py",
   "mimetype": "text/x-python",
   "name": "python",
   "nbconvert_exporter": "python",
   "pygments_lexer": "ipython3",
   "version": "3.9.18"
  }
 },
 "nbformat": 4,
 "nbformat_minor": 5
}
